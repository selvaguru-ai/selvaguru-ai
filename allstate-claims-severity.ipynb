{
 "cells": [
  {
   "cell_type": "code",
   "execution_count": 1,
   "id": "7bf8f6a9",
   "metadata": {
    "_cell_guid": "b1076dfc-b9ad-4769-8c92-a6c4dae69d19",
    "_uuid": "8f2839f25d086af736a60e9eeb907d3b93b6e0e5",
    "execution": {
     "iopub.execute_input": "2024-07-14T15:15:08.476610Z",
     "iopub.status.busy": "2024-07-14T15:15:08.476191Z",
     "iopub.status.idle": "2024-07-14T15:15:09.408815Z",
     "shell.execute_reply": "2024-07-14T15:15:09.407360Z"
    },
    "papermill": {
     "duration": 0.943644,
     "end_time": "2024-07-14T15:15:09.411903",
     "exception": false,
     "start_time": "2024-07-14T15:15:08.468259",
     "status": "completed"
    },
    "tags": []
   },
   "outputs": [
    {
     "name": "stdout",
     "output_type": "stream",
     "text": [
      "/kaggle/input/allstate-claims-severity/sample_submission.csv\n",
      "/kaggle/input/allstate-claims-severity/train.csv.zip\n",
      "/kaggle/input/allstate-claims-severity/sample_submission.csv.zip\n",
      "/kaggle/input/allstate-claims-severity/train.csv\n",
      "/kaggle/input/allstate-claims-severity/test.csv\n",
      "/kaggle/input/allstate-claims-severity/test.csv.zip\n"
     ]
    }
   ],
   "source": [
    "# This Python 3 environment comes with many helpful analytics libraries installed\n",
    "# It is defined by the kaggle/python Docker image: https://github.com/kaggle/docker-python\n",
    "# For example, here's several helpful packages to load\n",
    "\n",
    "import numpy as np # linear algebra\n",
    "import pandas as pd # data processing, CSV file I/O (e.g. pd.read_csv)\n",
    "\n",
    "# Input data files are available in the read-only \"../input/\" directory\n",
    "# For example, running this (by clicking run or pressing Shift+Enter) will list all files under the input directory\n",
    "\n",
    "import os\n",
    "for dirname, _, filenames in os.walk('/kaggle/input'):\n",
    "    for filename in filenames:\n",
    "        print(os.path.join(dirname, filename))\n",
    "\n",
    "# You can write up to 20GB to the current directory (/kaggle/working/) that gets preserved as output when you create a version using \"Save & Run All\" \n",
    "# You can also write temporary files to /kaggle/temp/, but they won't be saved outside of the current session"
   ]
  },
  {
   "cell_type": "code",
   "execution_count": 2,
   "id": "74144eaa",
   "metadata": {
    "execution": {
     "iopub.execute_input": "2024-07-14T15:15:09.426574Z",
     "iopub.status.busy": "2024-07-14T15:15:09.426019Z",
     "iopub.status.idle": "2024-07-14T15:15:16.752258Z",
     "shell.execute_reply": "2024-07-14T15:15:16.750997Z"
    },
    "papermill": {
     "duration": 7.336714,
     "end_time": "2024-07-14T15:15:16.755094",
     "exception": false,
     "start_time": "2024-07-14T15:15:09.418380",
     "status": "completed"
    },
    "tags": []
   },
   "outputs": [
    {
     "name": "stdout",
     "output_type": "stream",
     "text": [
      "(188318, 132)\n",
      "(125546, 131)\n"
     ]
    }
   ],
   "source": [
    "import pandas as pd\n",
    "\n",
    "df_train = pd.read_csv('/kaggle/input/allstate-claims-severity/train.csv')\n",
    "df_test = pd.read_csv('/kaggle/input/allstate-claims-severity/test.csv')\n",
    "\n",
    "print (df_train.shape)\n",
    "print (df_test.shape)"
   ]
  },
  {
   "cell_type": "code",
   "execution_count": 3,
   "id": "84ffb893",
   "metadata": {
    "execution": {
     "iopub.execute_input": "2024-07-14T15:15:16.768959Z",
     "iopub.status.busy": "2024-07-14T15:15:16.768582Z",
     "iopub.status.idle": "2024-07-14T15:15:16.813912Z",
     "shell.execute_reply": "2024-07-14T15:15:16.812741Z"
    },
    "papermill": {
     "duration": 0.055612,
     "end_time": "2024-07-14T15:15:16.816763",
     "exception": false,
     "start_time": "2024-07-14T15:15:16.761151",
     "status": "completed"
    },
    "tags": []
   },
   "outputs": [
    {
     "name": "stdout",
     "output_type": "stream",
     "text": [
      "Index(['id', 'cat1', 'cat2', 'cat3', 'cat4', 'cat5', 'cat6', 'cat7', 'cat8',\n",
      "       'cat9',\n",
      "       ...\n",
      "       'cont6', 'cont7', 'cont8', 'cont9', 'cont10', 'cont11', 'cont12',\n",
      "       'cont13', 'cont14', 'loss'],\n",
      "      dtype='object', length=132)\n"
     ]
    },
    {
     "data": {
      "text/html": [
       "<div>\n",
       "<style scoped>\n",
       "    .dataframe tbody tr th:only-of-type {\n",
       "        vertical-align: middle;\n",
       "    }\n",
       "\n",
       "    .dataframe tbody tr th {\n",
       "        vertical-align: top;\n",
       "    }\n",
       "\n",
       "    .dataframe thead th {\n",
       "        text-align: right;\n",
       "    }\n",
       "</style>\n",
       "<table border=\"1\" class=\"dataframe\">\n",
       "  <thead>\n",
       "    <tr style=\"text-align: right;\">\n",
       "      <th></th>\n",
       "      <th>id</th>\n",
       "      <th>cat1</th>\n",
       "      <th>cat2</th>\n",
       "      <th>cat3</th>\n",
       "      <th>cat4</th>\n",
       "      <th>cat5</th>\n",
       "      <th>cat6</th>\n",
       "      <th>cat7</th>\n",
       "      <th>cat8</th>\n",
       "      <th>cat9</th>\n",
       "      <th>...</th>\n",
       "      <th>cont6</th>\n",
       "      <th>cont7</th>\n",
       "      <th>cont8</th>\n",
       "      <th>cont9</th>\n",
       "      <th>cont10</th>\n",
       "      <th>cont11</th>\n",
       "      <th>cont12</th>\n",
       "      <th>cont13</th>\n",
       "      <th>cont14</th>\n",
       "      <th>loss</th>\n",
       "    </tr>\n",
       "  </thead>\n",
       "  <tbody>\n",
       "    <tr>\n",
       "      <th>0</th>\n",
       "      <td>1</td>\n",
       "      <td>A</td>\n",
       "      <td>B</td>\n",
       "      <td>A</td>\n",
       "      <td>B</td>\n",
       "      <td>A</td>\n",
       "      <td>A</td>\n",
       "      <td>A</td>\n",
       "      <td>A</td>\n",
       "      <td>B</td>\n",
       "      <td>...</td>\n",
       "      <td>0.718367</td>\n",
       "      <td>0.335060</td>\n",
       "      <td>0.30260</td>\n",
       "      <td>0.67135</td>\n",
       "      <td>0.83510</td>\n",
       "      <td>0.569745</td>\n",
       "      <td>0.594646</td>\n",
       "      <td>0.822493</td>\n",
       "      <td>0.714843</td>\n",
       "      <td>2213.18</td>\n",
       "    </tr>\n",
       "    <tr>\n",
       "      <th>1</th>\n",
       "      <td>2</td>\n",
       "      <td>A</td>\n",
       "      <td>B</td>\n",
       "      <td>A</td>\n",
       "      <td>A</td>\n",
       "      <td>A</td>\n",
       "      <td>A</td>\n",
       "      <td>A</td>\n",
       "      <td>A</td>\n",
       "      <td>B</td>\n",
       "      <td>...</td>\n",
       "      <td>0.438917</td>\n",
       "      <td>0.436585</td>\n",
       "      <td>0.60087</td>\n",
       "      <td>0.35127</td>\n",
       "      <td>0.43919</td>\n",
       "      <td>0.338312</td>\n",
       "      <td>0.366307</td>\n",
       "      <td>0.611431</td>\n",
       "      <td>0.304496</td>\n",
       "      <td>1283.60</td>\n",
       "    </tr>\n",
       "    <tr>\n",
       "      <th>2</th>\n",
       "      <td>5</td>\n",
       "      <td>A</td>\n",
       "      <td>B</td>\n",
       "      <td>A</td>\n",
       "      <td>A</td>\n",
       "      <td>B</td>\n",
       "      <td>A</td>\n",
       "      <td>A</td>\n",
       "      <td>A</td>\n",
       "      <td>B</td>\n",
       "      <td>...</td>\n",
       "      <td>0.289648</td>\n",
       "      <td>0.315545</td>\n",
       "      <td>0.27320</td>\n",
       "      <td>0.26076</td>\n",
       "      <td>0.32446</td>\n",
       "      <td>0.381398</td>\n",
       "      <td>0.373424</td>\n",
       "      <td>0.195709</td>\n",
       "      <td>0.774425</td>\n",
       "      <td>3005.09</td>\n",
       "    </tr>\n",
       "    <tr>\n",
       "      <th>3</th>\n",
       "      <td>10</td>\n",
       "      <td>B</td>\n",
       "      <td>B</td>\n",
       "      <td>A</td>\n",
       "      <td>B</td>\n",
       "      <td>A</td>\n",
       "      <td>A</td>\n",
       "      <td>A</td>\n",
       "      <td>A</td>\n",
       "      <td>B</td>\n",
       "      <td>...</td>\n",
       "      <td>0.440945</td>\n",
       "      <td>0.391128</td>\n",
       "      <td>0.31796</td>\n",
       "      <td>0.32128</td>\n",
       "      <td>0.44467</td>\n",
       "      <td>0.327915</td>\n",
       "      <td>0.321570</td>\n",
       "      <td>0.605077</td>\n",
       "      <td>0.602642</td>\n",
       "      <td>939.85</td>\n",
       "    </tr>\n",
       "    <tr>\n",
       "      <th>4</th>\n",
       "      <td>11</td>\n",
       "      <td>A</td>\n",
       "      <td>B</td>\n",
       "      <td>A</td>\n",
       "      <td>B</td>\n",
       "      <td>A</td>\n",
       "      <td>A</td>\n",
       "      <td>A</td>\n",
       "      <td>A</td>\n",
       "      <td>B</td>\n",
       "      <td>...</td>\n",
       "      <td>0.178193</td>\n",
       "      <td>0.247408</td>\n",
       "      <td>0.24564</td>\n",
       "      <td>0.22089</td>\n",
       "      <td>0.21230</td>\n",
       "      <td>0.204687</td>\n",
       "      <td>0.202213</td>\n",
       "      <td>0.246011</td>\n",
       "      <td>0.432606</td>\n",
       "      <td>2763.85</td>\n",
       "    </tr>\n",
       "  </tbody>\n",
       "</table>\n",
       "<p>5 rows × 132 columns</p>\n",
       "</div>"
      ],
      "text/plain": [
       "   id cat1 cat2 cat3 cat4 cat5 cat6 cat7 cat8 cat9  ...     cont6     cont7  \\\n",
       "0   1    A    B    A    B    A    A    A    A    B  ...  0.718367  0.335060   \n",
       "1   2    A    B    A    A    A    A    A    A    B  ...  0.438917  0.436585   \n",
       "2   5    A    B    A    A    B    A    A    A    B  ...  0.289648  0.315545   \n",
       "3  10    B    B    A    B    A    A    A    A    B  ...  0.440945  0.391128   \n",
       "4  11    A    B    A    B    A    A    A    A    B  ...  0.178193  0.247408   \n",
       "\n",
       "     cont8    cont9   cont10    cont11    cont12    cont13    cont14     loss  \n",
       "0  0.30260  0.67135  0.83510  0.569745  0.594646  0.822493  0.714843  2213.18  \n",
       "1  0.60087  0.35127  0.43919  0.338312  0.366307  0.611431  0.304496  1283.60  \n",
       "2  0.27320  0.26076  0.32446  0.381398  0.373424  0.195709  0.774425  3005.09  \n",
       "3  0.31796  0.32128  0.44467  0.327915  0.321570  0.605077  0.602642   939.85  \n",
       "4  0.24564  0.22089  0.21230  0.204687  0.202213  0.246011  0.432606  2763.85  \n",
       "\n",
       "[5 rows x 132 columns]"
      ]
     },
     "metadata": {},
     "output_type": "display_data"
    }
   ],
   "source": [
    "from IPython.display import display\n",
    "print (df_train.columns)\n",
    "\n",
    "display(df_train.head())"
   ]
  },
  {
   "cell_type": "markdown",
   "id": "036530bc",
   "metadata": {
    "papermill": {
     "duration": 0.00629,
     "end_time": "2024-07-14T15:15:16.829572",
     "exception": false,
     "start_time": "2024-07-14T15:15:16.823282",
     "status": "completed"
    },
    "tags": []
   },
   "source": [
    "# Checking the categorical features"
   ]
  },
  {
   "cell_type": "code",
   "execution_count": 4,
   "id": "eada3d51",
   "metadata": {
    "execution": {
     "iopub.execute_input": "2024-07-14T15:15:16.844690Z",
     "iopub.status.busy": "2024-07-14T15:15:16.844278Z",
     "iopub.status.idle": "2024-07-14T15:15:17.148477Z",
     "shell.execute_reply": "2024-07-14T15:15:17.147427Z"
    },
    "papermill": {
     "duration": 0.314835,
     "end_time": "2024-07-14T15:15:17.151090",
     "exception": false,
     "start_time": "2024-07-14T15:15:16.836255",
     "status": "completed"
    },
    "tags": []
   },
   "outputs": [
    {
     "name": "stdout",
     "output_type": "stream",
     "text": [
      "Categorical Column:  Index(['cat1', 'cat2', 'cat3', 'cat4', 'cat5', 'cat6', 'cat7', 'cat8', 'cat9',\n",
      "       'cat10',\n",
      "       ...\n",
      "       'cat107', 'cat108', 'cat109', 'cat110', 'cat111', 'cat112', 'cat113',\n",
      "       'cat114', 'cat115', 'cat116'],\n",
      "      dtype='object', length=116)\n"
     ]
    }
   ],
   "source": [
    "categorical_columns = df_train.select_dtypes(include=['object']).columns\n",
    "print (\"Categorical Column: \", categorical_columns)"
   ]
  },
  {
   "cell_type": "markdown",
   "id": "339aa1d0",
   "metadata": {
    "papermill": {
     "duration": 0.00635,
     "end_time": "2024-07-14T15:15:17.164158",
     "exception": false,
     "start_time": "2024-07-14T15:15:17.157808",
     "status": "completed"
    },
    "tags": []
   },
   "source": [
    "# Finding duplicates and NaN values"
   ]
  },
  {
   "cell_type": "code",
   "execution_count": 5,
   "id": "40c6f551",
   "metadata": {
    "execution": {
     "iopub.execute_input": "2024-07-14T15:15:17.179699Z",
     "iopub.status.busy": "2024-07-14T15:15:17.179265Z",
     "iopub.status.idle": "2024-07-14T15:15:24.356937Z",
     "shell.execute_reply": "2024-07-14T15:15:24.355802Z"
    },
    "papermill": {
     "duration": 7.18903,
     "end_time": "2024-07-14T15:15:24.359730",
     "exception": false,
     "start_time": "2024-07-14T15:15:17.170700",
     "status": "completed"
    },
    "tags": []
   },
   "outputs": [
    {
     "data": {
      "text/plain": [
       "id        0\n",
       "cat1      0\n",
       "cat2      0\n",
       "cat3      0\n",
       "cat4      0\n",
       "         ..\n",
       "cont10    0\n",
       "cont11    0\n",
       "cont12    0\n",
       "cont13    0\n",
       "cont14    0\n",
       "Length: 131, dtype: int64"
      ]
     },
     "execution_count": 5,
     "metadata": {},
     "output_type": "execute_result"
    }
   ],
   "source": [
    "df_train.duplicated().sum() #no duplicates\n",
    "df_train.isnull().sum() #no NaN values\n",
    "\n",
    "df_test.duplicated().sum()\n",
    "df_test.isnull().sum()"
   ]
  },
  {
   "cell_type": "code",
   "execution_count": 6,
   "id": "8d284162",
   "metadata": {
    "execution": {
     "iopub.execute_input": "2024-07-14T15:15:24.375470Z",
     "iopub.status.busy": "2024-07-14T15:15:24.375052Z",
     "iopub.status.idle": "2024-07-14T15:15:24.660222Z",
     "shell.execute_reply": "2024-07-14T15:15:24.659044Z"
    },
    "papermill": {
     "duration": 0.29648,
     "end_time": "2024-07-14T15:15:24.663050",
     "exception": false,
     "start_time": "2024-07-14T15:15:24.366570",
     "status": "completed"
    },
    "tags": []
   },
   "outputs": [],
   "source": [
    "x_train = df_train.iloc[:,:-1]\n",
    "y_train = df_train.iloc[:,-1]"
   ]
  },
  {
   "cell_type": "code",
   "execution_count": 7,
   "id": "7fbb64de",
   "metadata": {
    "execution": {
     "iopub.execute_input": "2024-07-14T15:15:24.679258Z",
     "iopub.status.busy": "2024-07-14T15:15:24.678844Z",
     "iopub.status.idle": "2024-07-14T15:15:24.710441Z",
     "shell.execute_reply": "2024-07-14T15:15:24.709337Z"
    },
    "papermill": {
     "duration": 0.042913,
     "end_time": "2024-07-14T15:15:24.713081",
     "exception": false,
     "start_time": "2024-07-14T15:15:24.670168",
     "status": "completed"
    },
    "tags": []
   },
   "outputs": [
    {
     "data": {
      "text/html": [
       "<div>\n",
       "<style scoped>\n",
       "    .dataframe tbody tr th:only-of-type {\n",
       "        vertical-align: middle;\n",
       "    }\n",
       "\n",
       "    .dataframe tbody tr th {\n",
       "        vertical-align: top;\n",
       "    }\n",
       "\n",
       "    .dataframe thead th {\n",
       "        text-align: right;\n",
       "    }\n",
       "</style>\n",
       "<table border=\"1\" class=\"dataframe\">\n",
       "  <thead>\n",
       "    <tr style=\"text-align: right;\">\n",
       "      <th></th>\n",
       "      <th>id</th>\n",
       "      <th>cat1</th>\n",
       "      <th>cat2</th>\n",
       "      <th>cat3</th>\n",
       "      <th>cat4</th>\n",
       "      <th>cat5</th>\n",
       "      <th>cat6</th>\n",
       "      <th>cat7</th>\n",
       "      <th>cat8</th>\n",
       "      <th>cat9</th>\n",
       "      <th>...</th>\n",
       "      <th>cont5</th>\n",
       "      <th>cont6</th>\n",
       "      <th>cont7</th>\n",
       "      <th>cont8</th>\n",
       "      <th>cont9</th>\n",
       "      <th>cont10</th>\n",
       "      <th>cont11</th>\n",
       "      <th>cont12</th>\n",
       "      <th>cont13</th>\n",
       "      <th>cont14</th>\n",
       "    </tr>\n",
       "  </thead>\n",
       "  <tbody>\n",
       "    <tr>\n",
       "      <th>0</th>\n",
       "      <td>1</td>\n",
       "      <td>A</td>\n",
       "      <td>B</td>\n",
       "      <td>A</td>\n",
       "      <td>B</td>\n",
       "      <td>A</td>\n",
       "      <td>A</td>\n",
       "      <td>A</td>\n",
       "      <td>A</td>\n",
       "      <td>B</td>\n",
       "      <td>...</td>\n",
       "      <td>0.310061</td>\n",
       "      <td>0.718367</td>\n",
       "      <td>0.335060</td>\n",
       "      <td>0.30260</td>\n",
       "      <td>0.67135</td>\n",
       "      <td>0.83510</td>\n",
       "      <td>0.569745</td>\n",
       "      <td>0.594646</td>\n",
       "      <td>0.822493</td>\n",
       "      <td>0.714843</td>\n",
       "    </tr>\n",
       "    <tr>\n",
       "      <th>1</th>\n",
       "      <td>2</td>\n",
       "      <td>A</td>\n",
       "      <td>B</td>\n",
       "      <td>A</td>\n",
       "      <td>A</td>\n",
       "      <td>A</td>\n",
       "      <td>A</td>\n",
       "      <td>A</td>\n",
       "      <td>A</td>\n",
       "      <td>B</td>\n",
       "      <td>...</td>\n",
       "      <td>0.885834</td>\n",
       "      <td>0.438917</td>\n",
       "      <td>0.436585</td>\n",
       "      <td>0.60087</td>\n",
       "      <td>0.35127</td>\n",
       "      <td>0.43919</td>\n",
       "      <td>0.338312</td>\n",
       "      <td>0.366307</td>\n",
       "      <td>0.611431</td>\n",
       "      <td>0.304496</td>\n",
       "    </tr>\n",
       "    <tr>\n",
       "      <th>2</th>\n",
       "      <td>5</td>\n",
       "      <td>A</td>\n",
       "      <td>B</td>\n",
       "      <td>A</td>\n",
       "      <td>A</td>\n",
       "      <td>B</td>\n",
       "      <td>A</td>\n",
       "      <td>A</td>\n",
       "      <td>A</td>\n",
       "      <td>B</td>\n",
       "      <td>...</td>\n",
       "      <td>0.397069</td>\n",
       "      <td>0.289648</td>\n",
       "      <td>0.315545</td>\n",
       "      <td>0.27320</td>\n",
       "      <td>0.26076</td>\n",
       "      <td>0.32446</td>\n",
       "      <td>0.381398</td>\n",
       "      <td>0.373424</td>\n",
       "      <td>0.195709</td>\n",
       "      <td>0.774425</td>\n",
       "    </tr>\n",
       "    <tr>\n",
       "      <th>3</th>\n",
       "      <td>10</td>\n",
       "      <td>B</td>\n",
       "      <td>B</td>\n",
       "      <td>A</td>\n",
       "      <td>B</td>\n",
       "      <td>A</td>\n",
       "      <td>A</td>\n",
       "      <td>A</td>\n",
       "      <td>A</td>\n",
       "      <td>B</td>\n",
       "      <td>...</td>\n",
       "      <td>0.422268</td>\n",
       "      <td>0.440945</td>\n",
       "      <td>0.391128</td>\n",
       "      <td>0.31796</td>\n",
       "      <td>0.32128</td>\n",
       "      <td>0.44467</td>\n",
       "      <td>0.327915</td>\n",
       "      <td>0.321570</td>\n",
       "      <td>0.605077</td>\n",
       "      <td>0.602642</td>\n",
       "    </tr>\n",
       "    <tr>\n",
       "      <th>4</th>\n",
       "      <td>11</td>\n",
       "      <td>A</td>\n",
       "      <td>B</td>\n",
       "      <td>A</td>\n",
       "      <td>B</td>\n",
       "      <td>A</td>\n",
       "      <td>A</td>\n",
       "      <td>A</td>\n",
       "      <td>A</td>\n",
       "      <td>B</td>\n",
       "      <td>...</td>\n",
       "      <td>0.704268</td>\n",
       "      <td>0.178193</td>\n",
       "      <td>0.247408</td>\n",
       "      <td>0.24564</td>\n",
       "      <td>0.22089</td>\n",
       "      <td>0.21230</td>\n",
       "      <td>0.204687</td>\n",
       "      <td>0.202213</td>\n",
       "      <td>0.246011</td>\n",
       "      <td>0.432606</td>\n",
       "    </tr>\n",
       "  </tbody>\n",
       "</table>\n",
       "<p>5 rows × 131 columns</p>\n",
       "</div>"
      ],
      "text/plain": [
       "   id cat1 cat2 cat3 cat4 cat5 cat6 cat7 cat8 cat9  ...     cont5     cont6  \\\n",
       "0   1    A    B    A    B    A    A    A    A    B  ...  0.310061  0.718367   \n",
       "1   2    A    B    A    A    A    A    A    A    B  ...  0.885834  0.438917   \n",
       "2   5    A    B    A    A    B    A    A    A    B  ...  0.397069  0.289648   \n",
       "3  10    B    B    A    B    A    A    A    A    B  ...  0.422268  0.440945   \n",
       "4  11    A    B    A    B    A    A    A    A    B  ...  0.704268  0.178193   \n",
       "\n",
       "      cont7    cont8    cont9   cont10    cont11    cont12    cont13    cont14  \n",
       "0  0.335060  0.30260  0.67135  0.83510  0.569745  0.594646  0.822493  0.714843  \n",
       "1  0.436585  0.60087  0.35127  0.43919  0.338312  0.366307  0.611431  0.304496  \n",
       "2  0.315545  0.27320  0.26076  0.32446  0.381398  0.373424  0.195709  0.774425  \n",
       "3  0.391128  0.31796  0.32128  0.44467  0.327915  0.321570  0.605077  0.602642  \n",
       "4  0.247408  0.24564  0.22089  0.21230  0.204687  0.202213  0.246011  0.432606  \n",
       "\n",
       "[5 rows x 131 columns]"
      ]
     },
     "metadata": {},
     "output_type": "display_data"
    },
    {
     "data": {
      "text/plain": [
       "0    2213.18\n",
       "1    1283.60\n",
       "2    3005.09\n",
       "3     939.85\n",
       "4    2763.85\n",
       "Name: loss, dtype: float64"
      ]
     },
     "metadata": {},
     "output_type": "display_data"
    },
    {
     "name": "stdout",
     "output_type": "stream",
     "text": [
      "(188318, 131)\n",
      "(188318,)\n"
     ]
    }
   ],
   "source": [
    "display (x_train.head())\n",
    "display(y_train.head())\n",
    "\n",
    "print (x_train.shape)\n",
    "print (y_train.shape)"
   ]
  },
  {
   "cell_type": "markdown",
   "id": "3f35d2fd",
   "metadata": {
    "papermill": {
     "duration": 0.00694,
     "end_time": "2024-07-14T15:15:24.727222",
     "exception": false,
     "start_time": "2024-07-14T15:15:24.720282",
     "status": "completed"
    },
    "tags": []
   },
   "source": [
    "# Feature Engineering\n",
    "### Categorical features"
   ]
  },
  {
   "cell_type": "code",
   "execution_count": 8,
   "id": "2f0c494e",
   "metadata": {
    "execution": {
     "iopub.execute_input": "2024-07-14T15:15:24.744166Z",
     "iopub.status.busy": "2024-07-14T15:15:24.743716Z",
     "iopub.status.idle": "2024-07-14T15:15:26.999157Z",
     "shell.execute_reply": "2024-07-14T15:15:26.997928Z"
    },
    "papermill": {
     "duration": 2.267532,
     "end_time": "2024-07-14T15:15:27.002006",
     "exception": false,
     "start_time": "2024-07-14T15:15:24.734474",
     "status": "completed"
    },
    "tags": []
   },
   "outputs": [
    {
     "name": "stdout",
     "output_type": "stream",
     "text": [
      "       cat1 cat2 cat3 cat4 cat5 cat6 cat7 cat8 cat9 cat10  ... cat107 cat108  \\\n",
      "0         A    B    A    B    A    A    A    A    B     A  ...      J      G   \n",
      "1         A    B    A    A    A    A    A    A    B     B  ...      K      K   \n",
      "2         A    B    A    A    B    A    A    A    B     B  ...      F      A   \n",
      "3         B    B    A    B    A    A    A    A    B     A  ...      K      K   \n",
      "4         A    B    A    B    A    A    A    A    B     B  ...      G      B   \n",
      "...     ...  ...  ...  ...  ...  ...  ...  ...  ...   ...  ...    ...    ...   \n",
      "188313    A    B    A    A    A    A    A    A    B     A  ...      G      B   \n",
      "188314    A    A    A    A    A    B    A    A    A     A  ...      F      B   \n",
      "188315    A    B    A    A    A    A    A    B    B     A  ...      F      B   \n",
      "188316    A    B    A    A    A    A    A    A    B     B  ...      J      K   \n",
      "188317    B    A    A    B    A    A    A    A    A     A  ...      G      G   \n",
      "\n",
      "       cat109 cat110 cat111 cat112 cat113 cat114 cat115 cat116  \n",
      "0          BU     BC      C     AS      S      A      O     LB  \n",
      "1          BI     CQ      A     AV     BM      A      O     DP  \n",
      "2          AB     DK      A      C     AF      A      I     GK  \n",
      "3          BI     CS      C      N     AE      A      O     DJ  \n",
      "4           H      C      C      Y     BM      A      K     CK  \n",
      "...       ...    ...    ...    ...    ...    ...    ...    ...  \n",
      "188313     BI     EG      A      G     BM      A      L     CK  \n",
      "188314     BI     BT      A     AV     AU      E      J     DF  \n",
      "188315     BI     DM      A      W     AF      A      K     DJ  \n",
      "188316     BI     AI      A     AS     AJ      A      O     MD  \n",
      "188317     BI     EG      K     AS     AD      A      O     MJ  \n",
      "\n",
      "[188318 rows x 116 columns]\n"
     ]
    }
   ],
   "source": [
    "# column 1 to 117 all are categorical columns\n",
    "# lets convert the categorical columns to one hot encoding\n",
    "\n",
    "print (x_train.iloc[:,1:117].astype('category'))"
   ]
  },
  {
   "cell_type": "code",
   "execution_count": 9,
   "id": "be9c9df0",
   "metadata": {
    "execution": {
     "iopub.execute_input": "2024-07-14T15:15:27.019138Z",
     "iopub.status.busy": "2024-07-14T15:15:27.018673Z",
     "iopub.status.idle": "2024-07-14T15:15:30.156547Z",
     "shell.execute_reply": "2024-07-14T15:15:30.155016Z"
    },
    "papermill": {
     "duration": 3.149797,
     "end_time": "2024-07-14T15:15:30.159473",
     "exception": false,
     "start_time": "2024-07-14T15:15:27.009676",
     "status": "completed"
    },
    "tags": []
   },
   "outputs": [],
   "source": [
    "categorical_columns = x_train.select_dtypes(include = ['object','category']).columns\n",
    "x_train = pd.get_dummies(x_train, columns = categorical_columns, drop_first = True)"
   ]
  },
  {
   "cell_type": "code",
   "execution_count": 10,
   "id": "c86bb5ce",
   "metadata": {
    "execution": {
     "iopub.execute_input": "2024-07-14T15:15:30.177193Z",
     "iopub.status.busy": "2024-07-14T15:15:30.176359Z",
     "iopub.status.idle": "2024-07-14T15:15:30.204207Z",
     "shell.execute_reply": "2024-07-14T15:15:30.203096Z"
    },
    "papermill": {
     "duration": 0.039578,
     "end_time": "2024-07-14T15:15:30.206750",
     "exception": false,
     "start_time": "2024-07-14T15:15:30.167172",
     "status": "completed"
    },
    "tags": []
   },
   "outputs": [
    {
     "data": {
      "text/html": [
       "<div>\n",
       "<style scoped>\n",
       "    .dataframe tbody tr th:only-of-type {\n",
       "        vertical-align: middle;\n",
       "    }\n",
       "\n",
       "    .dataframe tbody tr th {\n",
       "        vertical-align: top;\n",
       "    }\n",
       "\n",
       "    .dataframe thead th {\n",
       "        text-align: right;\n",
       "    }\n",
       "</style>\n",
       "<table border=\"1\" class=\"dataframe\">\n",
       "  <thead>\n",
       "    <tr style=\"text-align: right;\">\n",
       "      <th></th>\n",
       "      <th>id</th>\n",
       "      <th>cont1</th>\n",
       "      <th>cont2</th>\n",
       "      <th>cont3</th>\n",
       "      <th>cont4</th>\n",
       "      <th>cont5</th>\n",
       "      <th>cont6</th>\n",
       "      <th>cont7</th>\n",
       "      <th>cont8</th>\n",
       "      <th>cont9</th>\n",
       "      <th>...</th>\n",
       "      <th>cat116_P</th>\n",
       "      <th>cat116_Q</th>\n",
       "      <th>cat116_R</th>\n",
       "      <th>cat116_S</th>\n",
       "      <th>cat116_T</th>\n",
       "      <th>cat116_U</th>\n",
       "      <th>cat116_V</th>\n",
       "      <th>cat116_W</th>\n",
       "      <th>cat116_X</th>\n",
       "      <th>cat116_Y</th>\n",
       "    </tr>\n",
       "  </thead>\n",
       "  <tbody>\n",
       "    <tr>\n",
       "      <th>0</th>\n",
       "      <td>1</td>\n",
       "      <td>0.726300</td>\n",
       "      <td>0.245921</td>\n",
       "      <td>0.187583</td>\n",
       "      <td>0.789639</td>\n",
       "      <td>0.310061</td>\n",
       "      <td>0.718367</td>\n",
       "      <td>0.335060</td>\n",
       "      <td>0.30260</td>\n",
       "      <td>0.67135</td>\n",
       "      <td>...</td>\n",
       "      <td>False</td>\n",
       "      <td>False</td>\n",
       "      <td>False</td>\n",
       "      <td>False</td>\n",
       "      <td>False</td>\n",
       "      <td>False</td>\n",
       "      <td>False</td>\n",
       "      <td>False</td>\n",
       "      <td>False</td>\n",
       "      <td>False</td>\n",
       "    </tr>\n",
       "    <tr>\n",
       "      <th>1</th>\n",
       "      <td>2</td>\n",
       "      <td>0.330514</td>\n",
       "      <td>0.737068</td>\n",
       "      <td>0.592681</td>\n",
       "      <td>0.614134</td>\n",
       "      <td>0.885834</td>\n",
       "      <td>0.438917</td>\n",
       "      <td>0.436585</td>\n",
       "      <td>0.60087</td>\n",
       "      <td>0.35127</td>\n",
       "      <td>...</td>\n",
       "      <td>False</td>\n",
       "      <td>False</td>\n",
       "      <td>False</td>\n",
       "      <td>False</td>\n",
       "      <td>False</td>\n",
       "      <td>False</td>\n",
       "      <td>False</td>\n",
       "      <td>False</td>\n",
       "      <td>False</td>\n",
       "      <td>False</td>\n",
       "    </tr>\n",
       "    <tr>\n",
       "      <th>2</th>\n",
       "      <td>5</td>\n",
       "      <td>0.261841</td>\n",
       "      <td>0.358319</td>\n",
       "      <td>0.484196</td>\n",
       "      <td>0.236924</td>\n",
       "      <td>0.397069</td>\n",
       "      <td>0.289648</td>\n",
       "      <td>0.315545</td>\n",
       "      <td>0.27320</td>\n",
       "      <td>0.26076</td>\n",
       "      <td>...</td>\n",
       "      <td>False</td>\n",
       "      <td>False</td>\n",
       "      <td>False</td>\n",
       "      <td>False</td>\n",
       "      <td>False</td>\n",
       "      <td>False</td>\n",
       "      <td>False</td>\n",
       "      <td>False</td>\n",
       "      <td>False</td>\n",
       "      <td>False</td>\n",
       "    </tr>\n",
       "    <tr>\n",
       "      <th>3</th>\n",
       "      <td>10</td>\n",
       "      <td>0.321594</td>\n",
       "      <td>0.555782</td>\n",
       "      <td>0.527991</td>\n",
       "      <td>0.373816</td>\n",
       "      <td>0.422268</td>\n",
       "      <td>0.440945</td>\n",
       "      <td>0.391128</td>\n",
       "      <td>0.31796</td>\n",
       "      <td>0.32128</td>\n",
       "      <td>...</td>\n",
       "      <td>False</td>\n",
       "      <td>False</td>\n",
       "      <td>False</td>\n",
       "      <td>False</td>\n",
       "      <td>False</td>\n",
       "      <td>False</td>\n",
       "      <td>False</td>\n",
       "      <td>False</td>\n",
       "      <td>False</td>\n",
       "      <td>False</td>\n",
       "    </tr>\n",
       "    <tr>\n",
       "      <th>4</th>\n",
       "      <td>11</td>\n",
       "      <td>0.273204</td>\n",
       "      <td>0.159990</td>\n",
       "      <td>0.527991</td>\n",
       "      <td>0.473202</td>\n",
       "      <td>0.704268</td>\n",
       "      <td>0.178193</td>\n",
       "      <td>0.247408</td>\n",
       "      <td>0.24564</td>\n",
       "      <td>0.22089</td>\n",
       "      <td>...</td>\n",
       "      <td>False</td>\n",
       "      <td>False</td>\n",
       "      <td>False</td>\n",
       "      <td>False</td>\n",
       "      <td>False</td>\n",
       "      <td>False</td>\n",
       "      <td>False</td>\n",
       "      <td>False</td>\n",
       "      <td>False</td>\n",
       "      <td>False</td>\n",
       "    </tr>\n",
       "  </tbody>\n",
       "</table>\n",
       "<p>5 rows × 1038 columns</p>\n",
       "</div>"
      ],
      "text/plain": [
       "   id     cont1     cont2     cont3     cont4     cont5     cont6     cont7  \\\n",
       "0   1  0.726300  0.245921  0.187583  0.789639  0.310061  0.718367  0.335060   \n",
       "1   2  0.330514  0.737068  0.592681  0.614134  0.885834  0.438917  0.436585   \n",
       "2   5  0.261841  0.358319  0.484196  0.236924  0.397069  0.289648  0.315545   \n",
       "3  10  0.321594  0.555782  0.527991  0.373816  0.422268  0.440945  0.391128   \n",
       "4  11  0.273204  0.159990  0.527991  0.473202  0.704268  0.178193  0.247408   \n",
       "\n",
       "     cont8    cont9  ...  cat116_P  cat116_Q  cat116_R  cat116_S  cat116_T  \\\n",
       "0  0.30260  0.67135  ...     False     False     False     False     False   \n",
       "1  0.60087  0.35127  ...     False     False     False     False     False   \n",
       "2  0.27320  0.26076  ...     False     False     False     False     False   \n",
       "3  0.31796  0.32128  ...     False     False     False     False     False   \n",
       "4  0.24564  0.22089  ...     False     False     False     False     False   \n",
       "\n",
       "   cat116_U  cat116_V  cat116_W  cat116_X  cat116_Y  \n",
       "0     False     False     False     False     False  \n",
       "1     False     False     False     False     False  \n",
       "2     False     False     False     False     False  \n",
       "3     False     False     False     False     False  \n",
       "4     False     False     False     False     False  \n",
       "\n",
       "[5 rows x 1038 columns]"
      ]
     },
     "metadata": {},
     "output_type": "display_data"
    }
   ],
   "source": [
    "display (x_train.head())"
   ]
  },
  {
   "cell_type": "code",
   "execution_count": 11,
   "id": "a2d54aa6",
   "metadata": {
    "execution": {
     "iopub.execute_input": "2024-07-14T15:15:30.224764Z",
     "iopub.status.busy": "2024-07-14T15:15:30.224238Z",
     "iopub.status.idle": "2024-07-14T15:15:30.252896Z",
     "shell.execute_reply": "2024-07-14T15:15:30.251512Z"
    },
    "papermill": {
     "duration": 0.041205,
     "end_time": "2024-07-14T15:15:30.256023",
     "exception": false,
     "start_time": "2024-07-14T15:15:30.214818",
     "status": "completed"
    },
    "tags": []
   },
   "outputs": [
    {
     "name": "stdout",
     "output_type": "stream",
     "text": [
      "[dtype('int64') dtype('float64') dtype('bool')]\n",
      "cont1     0.984975\n",
      "cont2     0.862654\n",
      "cont3     0.944251\n",
      "cont4     0.954297\n",
      "cont5     0.983674\n",
      "cont6     0.997162\n",
      "cont7     1.000000\n",
      "cont8     0.980200\n",
      "cont9     0.995400\n",
      "cont10    0.994980\n",
      "cont11    0.998742\n",
      "cont12    0.998484\n",
      "cont13    0.988494\n",
      "cont14    0.844848\n",
      "dtype: float64\n",
      "cont1     0.000016\n",
      "cont2     0.001149\n",
      "cont3     0.002634\n",
      "cont4     0.176921\n",
      "cont5     0.281143\n",
      "cont6     0.012683\n",
      "cont7     0.069503\n",
      "cont8     0.236880\n",
      "cont9     0.000080\n",
      "cont10    0.000000\n",
      "cont11    0.035321\n",
      "cont12    0.036232\n",
      "cont13    0.000228\n",
      "cont14    0.179722\n",
      "dtype: float64\n"
     ]
    }
   ],
   "source": [
    "print (x_train.dtypes.unique())\n",
    "float_columns = x_train.select_dtypes(include = ['float64'])\n",
    "print (float_columns.max())\n",
    "print (float_columns.min())\n",
    "# we can conclude the numerical values are already min max scaled \n",
    "# so don't need to pre-process this data"
   ]
  },
  {
   "cell_type": "markdown",
   "id": "62fe5612",
   "metadata": {
    "papermill": {
     "duration": 0.008288,
     "end_time": "2024-07-14T15:15:30.272576",
     "exception": false,
     "start_time": "2024-07-14T15:15:30.264288",
     "status": "completed"
    },
    "tags": []
   },
   "source": [
    "# Train Test Split"
   ]
  },
  {
   "cell_type": "code",
   "execution_count": 12,
   "id": "1e552369",
   "metadata": {
    "execution": {
     "iopub.execute_input": "2024-07-14T15:15:30.291242Z",
     "iopub.status.busy": "2024-07-14T15:15:30.290841Z",
     "iopub.status.idle": "2024-07-14T15:15:32.176839Z",
     "shell.execute_reply": "2024-07-14T15:15:32.175591Z"
    },
    "papermill": {
     "duration": 1.898566,
     "end_time": "2024-07-14T15:15:32.179513",
     "exception": false,
     "start_time": "2024-07-14T15:15:30.280947",
     "status": "completed"
    },
    "tags": []
   },
   "outputs": [
    {
     "name": "stdout",
     "output_type": "stream",
     "text": [
      "(131822, 1038)\n",
      "(56496, 1038)\n",
      "(131822,)\n",
      "(56496,)\n"
     ]
    }
   ],
   "source": [
    "from sklearn.model_selection import train_test_split\n",
    "\n",
    "x_train, x_test, y_train, y_test = train_test_split (x_train, y_train, test_size = 0.3, \n",
    "                                                    random_state = 42)\n",
    "\n",
    "print (x_train.shape)\n",
    "print (x_test.shape)\n",
    "print (y_train.shape)\n",
    "print (y_test.shape)"
   ]
  }
 ],
 "metadata": {
  "kaggle": {
   "accelerator": "none",
   "dataSources": [
    {
     "databundleVersionId": 88895,
     "sourceId": 5325,
     "sourceType": "competition"
    }
   ],
   "dockerImageVersionId": 30746,
   "isGpuEnabled": false,
   "isInternetEnabled": true,
   "language": "python",
   "sourceType": "notebook"
  },
  "kernelspec": {
   "display_name": "Python 3",
   "language": "python",
   "name": "python3"
  },
  "language_info": {
   "codemirror_mode": {
    "name": "ipython",
    "version": 3
   },
   "file_extension": ".py",
   "mimetype": "text/x-python",
   "name": "python",
   "nbconvert_exporter": "python",
   "pygments_lexer": "ipython3",
   "version": "3.10.13"
  },
  "papermill": {
   "default_parameters": {},
   "duration": 27.724656,
   "end_time": "2024-07-14T15:15:33.010972",
   "environment_variables": {},
   "exception": null,
   "input_path": "__notebook__.ipynb",
   "output_path": "__notebook__.ipynb",
   "parameters": {},
   "start_time": "2024-07-14T15:15:05.286316",
   "version": "2.5.0"
  }
 },
 "nbformat": 4,
 "nbformat_minor": 5
}
